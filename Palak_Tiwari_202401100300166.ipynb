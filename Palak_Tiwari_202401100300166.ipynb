{
  "nbformat": 4,
  "nbformat_minor": 0,
  "metadata": {
    "colab": {
      "provenance": []
    },
    "kernelspec": {
      "name": "python3",
      "display_name": "Python 3"
    },
    "language_info": {
      "name": "python"
    }
  },
  "cells": [
    {
      "cell_type": "code",
      "execution_count": 6,
      "metadata": {
        "colab": {
          "base_uri": "https://localhost:8080/",
          "height": 771
        },
        "id": "DfxWMEQFwJ-D",
        "outputId": "0a27705c-ae66-460a-d575-e3f3bf1bb561"
      },
      "outputs": [
        {
          "output_type": "stream",
          "name": "stdout",
          "text": [
            "Missing values:\n",
            " message_length    0\n",
            "response_time     0\n",
            "case_type         0\n",
            "dtype: int64\n",
            "Evaluation Metrics:\n",
            "Accuracy : 0.3500\n",
            "Precision: 0.5015\n",
            "Recall   : 0.3500\n"
          ]
        },
        {
          "output_type": "display_data",
          "data": {
            "text/plain": [
              "<Figure size 600x400 with 2 Axes>"
            ],
            "image/png": "[encoded data removed]"
          },
          "metadata": {}
        },
        {
          "output_type": "stream",
          "name": "stdout",
          "text": [
            "\n",
            "Classification Report:\n",
            "              precision    recall  f1-score   support\n",
            "\n",
            "     Billing       0.67      0.18      0.29        11\n",
            "   Technical       0.33      0.50      0.40         4\n",
            "     General       0.27      0.60      0.38         5\n",
            "\n",
            "    accuracy                           0.35        20\n",
            "   macro avg       0.42      0.43      0.35        20\n",
            "weighted avg       0.50      0.35      0.33        20\n",
            "\n"
          ]
        }
      ],
      "source": [
        "import pandas as pd\n",
        "import seaborn as sns\n",
        "import matplotlib.pyplot as plt\n",
        "from sklearn.model_selection import train_test_split\n",
        "from sklearn.linear_model import LogisticRegression\n",
        "from sklearn.metrics import (\n",
        "    accuracy_score, precision_score, recall_score,\n",
        "    confusion_matrix, classification_report\n",
        ")\n",
        "from sklearn.preprocessing import LabelEncoder\n",
        "\n",
        "# Step 1: Load data\n",
        "data = pd.read_csv(\"/content/support_cases.csv\")\n",
        "\n",
        "# Step 2: Check for missing values\n",
        "print(\"Missing values:\\n\", data.isnull().sum())\n",
        "\n",
        "# Step 3: Drop missing values\n",
        "data.dropna(inplace=True)\n",
        "\n",
        "# Step 4: Encode case_type labels into numeric format\n",
        "label_mapping = {'billing': 0, 'technical': 1, 'general': 2}\n",
        "data = data[data['case_type'].isin(label_mapping)]  # Only valid labels\n",
        "data['label_encoded'] = data['case_type'].map(label_mapping)\n",
        "\n",
        "# Step 5: Define features and target\n",
        "X = data[['message_length', 'response_time']]\n",
        "y = data['label_encoded']\n",
        "\n",
        "# Step 6: Train-test split\n",
        "X_train, X_test, y_train, y_test = train_test_split(\n",
        "    X, y, test_size=0.2, random_state=42)\n",
        "\n",
        "# Step 7: Train Logistic Regression model\n",
        "model = LogisticRegression()\n",
        "model.fit(X_train, y_train)\n",
        "\n",
        "# Step 8: Make predictions\n",
        "y_pred = model.predict(X_test)\n",
        "\n",
        "# Step 9: Evaluation metrics\n",
        "accuracy = accuracy_score(y_test, y_pred)\n",
        "precision = precision_score(y_test, y_pred, average='weighted', zero_division=0)\n",
        "recall = recall_score(y_test, y_pred, average='weighted', zero_division=0)\n",
        "\n",
        "print(\"Evaluation Metrics:\")\n",
        "print(f\"Accuracy : {accuracy:.4f}\")\n",
        "print(f\"Precision: {precision:.4f}\")\n",
        "print(f\"Recall   : {recall:.4f}\")\n",
        "\n",
        "# Step 10: Confusion Matrix\n",
        "cm = confusion_matrix(y_test, y_pred)\n",
        "labels = ['Billing', 'Technical', 'General']\n",
        "\n",
        "plt.figure(figsize=(6, 4))\n",
        "sns.heatmap(cm, annot=True, fmt='d', cmap='Blues',\n",
        "            xticklabels=labels, yticklabels=labels)\n",
        "plt.xlabel(\"Predicted\")\n",
        "plt.ylabel(\"Actual\")\n",
        "plt.title(\"Confusion Matrix Heatmap\")\n",
        "plt.tight_layout()\n",
        "plt.show()\n",
        "\n",
        "# Step 11: Classification Report\n",
        "print(\"\\nClassification Report:\")\n",
        "print(classification_report(y_test, y_pred, target_names=labels))\n",
        "\n",
        "\n"
      ]
    },
    {
      "cell_type": "code",
      "source": [],
      "metadata": {
        "id": "GrV2ckig0QDc"
      },
      "execution_count": null,
      "outputs": []
    }
  ]
}